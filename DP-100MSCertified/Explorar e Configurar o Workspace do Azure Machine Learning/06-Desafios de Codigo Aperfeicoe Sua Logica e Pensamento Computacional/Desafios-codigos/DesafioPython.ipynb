{
 "cells": [
  {
   "cell_type": "code",
   "execution_count": null,
   "id": "1a225a29",
   "metadata": {},
   "outputs": [
    {
     "name": "stdout",
     "output_type": "stream",
     "text": [
      "1000.00\n"
     ]
    }
   ],
   "source": [
    "\"\"\"\n",
    "## Informaçoes sobre o código \n",
    "- Para ler e escrever em Python, utilizamos as seguintes funções:\n",
    "    - Input: lê UMA linha com dado(s) de Entrada do usuário:\n",
    "    - print: imprime um texto de Saída (Output), ppulando linha. \n",
    "\"\"\"\n",
    "#Função útil para o calculo do imposto (baseado nas aliquotas).\n",
    "def calcular_imposto(salario):\n",
    "    aliquota = 0.00\n",
    "    if (salario >= 0 and salario <= 1100):\n",
    "        aliquota = 0.05\n",
    "    elif (salario > 1100 and salario <= 2500):\n",
    "        aliquota = 0.10\n",
    "    else:\n",
    "        aliquota = 0.15\n",
    "    #todo criar as demais condições para as aliqotas de 10.00% e 15.00%.\n",
    "    return aliquota * salario\n",
    "\n",
    "#Lê os valores de Entrada:\n",
    "valor_salario = float(input())\n",
    "valor_beneficios = float(input())\n",
    "#Calcula o imposto através da função \"cacular_imposto\"\n",
    "valor_imposto = calcular_imposto(valor_salario)\n",
    "#Calcula e imprime a saída (com 2 casas decimais):\n",
    "saida = valor_salario - valor_imposto + valor_beneficios\n",
    "print(f'{saida:.2f}')"
   ]
  }
 ],
 "metadata": {
  "kernelspec": {
   "display_name": "Python 3",
   "language": "python",
   "name": "python3"
  },
  "language_info": {
   "codemirror_mode": {
    "name": "ipython",
    "version": 3
   },
   "file_extension": ".py",
   "mimetype": "text/x-python",
   "name": "python",
   "nbconvert_exporter": "python",
   "pygments_lexer": "ipython3",
   "version": "3.12.0"
  }
 },
 "nbformat": 4,
 "nbformat_minor": 5
}
