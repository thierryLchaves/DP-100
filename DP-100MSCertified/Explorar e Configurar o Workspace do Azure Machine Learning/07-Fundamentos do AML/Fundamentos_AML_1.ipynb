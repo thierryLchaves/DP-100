{
 "cells": [
  {
   "cell_type": "code",
   "execution_count": null,
   "id": "c941e45b",
   "metadata": {},
   "outputs": [
    {
     "name": "stdout",
     "output_type": "stream",
     "text": [
      "Ambiente centralizado para gerenciar experimentos de Machine Learning\n"
     ]
    }
   ],
   "source": [
    "entrada = input()\n",
    "\n",
    "def descrever_recurso(recurso):\n",
    "    if recurso == \"Azure ML Workspace\":\n",
    "        return \"Ambiente centralizado para gerenciar experimentos de Machine Learning\"\n",
    "    elif recurso == \"Azure ML Compute\":\n",
    "        return \"Recurso para provisionar VMs escaláveis para treinar modelos\"\n",
    "    elif recurso == \"Azure ML Datasets\":\n",
    "        return \"Conjunto de dados organizados para uso nos experimentos de ML\"\n",
    "    elif recurso == \"Azure ML Pipelines\":\n",
    "        return \"Automação do fluxo de ML, organizando preparação e modelagem\"\n",
    "    else:\n",
    "        return \"Recurso inválido\"\n",
    "\n",
    "print(descrever_recurso(entrada))"
   ]
  },
  {
   "cell_type": "code",
   "execution_count": 8,
   "id": "a7f40e05",
   "metadata": {},
   "outputs": [
    {
     "name": "stdout",
     "output_type": "stream",
     "text": [
      "Recurso inválido\n"
     ]
    }
   ],
   "source": [
    "entrada = input()\n",
    "\n",
    "def descrever_recurso(recurso):\n",
    "    if recurso == \"Ambiente Conda\":\n",
    "        return \"Espaço isolado para armazenar pacotes e dependências do projeto\"\n",
    "    elif recurso == \"Docker\":\n",
    "        return \"Containerização para garantir replicabilidade do ambiente\"\n",
    "    elif recurso == \"Compute Instance\":\n",
    "        return \"Máquina virtual dedicada para experimentação e desenvolvimento\"\n",
    "    elif recurso == \"Inference Cluster\":\n",
    "        return \"Infraestrutura escalável para implantação de modelos em produção\"\n",
    "    else:\n",
    "        return \"Recurso inválido\"\n",
    "\n",
    "print(descrever_recurso(entrada))"
   ]
  }
 ],
 "metadata": {
  "kernelspec": {
   "display_name": ".venv",
   "language": "python",
   "name": "python3"
  },
  "language_info": {
   "codemirror_mode": {
    "name": "ipython",
    "version": 3
   },
   "file_extension": ".py",
   "mimetype": "text/x-python",
   "name": "python",
   "nbconvert_exporter": "python",
   "pygments_lexer": "ipython3",
   "version": "3.12.7"
  }
 },
 "nbformat": 4,
 "nbformat_minor": 5
}
