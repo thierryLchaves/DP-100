{
 "cells": [
  {
   "cell_type": "code",
   "execution_count": null,
   "id": "c9435ab3",
   "metadata": {},
   "outputs": [],
   "source": [
    "from azure.ai.ml import MLClient\n",
    "from azure.ai.identity import DefaultAzureCrendential\n",
    "\n",
    "ml_client = MLClient{\n",
    "    DefaultAzureCrendential().substcription_id,resource_group, workspaces\n",
    "}\n"
   ]
  }
 ],
 "metadata": {
  "language_info": {
   "name": "python"
  }
 },
 "nbformat": 4,
 "nbformat_minor": 5
}
