{
 "cells": [
  {
   "cell_type": "markdown",
   "id": "281730cf",
   "metadata": {},
   "source": [
    "# Informação importante\n",
    "\n",
    "#### Devido a algumas alterações do linux essse processo deverá ser realizado através de ambiente virtual no que diz respeito a instação do pacote azure-ai-ml\n",
    "\n",
    "1. Para realizar esse processo siga os passos descritos abaixo <br>\n",
    "    -  Crie o ambiente virtual dentro da pasta de projeto desejada, esse comando pode segue a seguinte sintaxe:\n",
    "    ```\n",
    "    python3 -m venv NomeAmbienteVirtual \n",
    "    source NomeAmbienteVirtual/bin/activate\n",
    "    ```\n",
    "    - Com os comandos acima é possivel criar um ambiente virtual do python para o diretório desejado \n",
    "    - Em caso de problemas com o VSCode e sua execução de Kernel pode-se utilizar o seguinte comando \n",
    "    ```\n",
    "    python -m pip install ipykernel -U --force-reinstall\n",
    "    ```\n",
    "    - Para desativar o ambiente virtual env basta utilizar o comando a seguir:\n",
    "     ```\n",
    "    deactivate\n",
    "    ```\n",
    "2. Com o processo de criação de ambientes virtuais em mãos e instalar/indicar o Kernel os comandos de \"pip\" deverão ser ser precedidos pela sintaxe\n",
    "    ```\n",
    "    python -m \n",
    "    ```\n",
    "3. Para instalar no novo ambiente virutal a lib do Azure ML siga os comandos abaixo \n",
    "    ```\n",
    "    pip install azure-ai-ml\n",
    "    ```\n",
    "\n",
    "    "
   ]
  },
  {
   "cell_type": "code",
   "execution_count": null,
   "id": "bb937d09",
   "metadata": {},
   "outputs": [
    {
     "name": "stdout",
     "output_type": "stream",
     "text": [
      "Ola mundo\n"
     ]
    }
   ],
   "source": [
    "from azure.ai.ml import MLClient \n",
    "from azure.aiidentity import DefaultAzureCredential\n",
    "\n",
    "ml_client = MLClient(\n",
    "    DefaultAzureCredential(),subscription_id, resource_group, worspace\n",
    ")"
   ]
  }
 ],
 "metadata": {
  "kernelspec": {
   "display_name": ".venv",
   "language": "python",
   "name": "python3"
  },
  "language_info": {
   "codemirror_mode": {
    "name": "ipython",
    "version": 3
   },
   "file_extension": ".py",
   "mimetype": "text/x-python",
   "name": "python",
   "nbconvert_exporter": "python",
   "pygments_lexer": "ipython3",
   "version": "3.12.7"
  }
 },
 "nbformat": 4,
 "nbformat_minor": 5
}
