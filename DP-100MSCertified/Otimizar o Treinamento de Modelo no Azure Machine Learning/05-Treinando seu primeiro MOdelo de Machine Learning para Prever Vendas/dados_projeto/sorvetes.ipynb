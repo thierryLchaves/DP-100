{
 "cells": [
  {
   "cell_type": "markdown",
   "id": "db82f5ca",
   "metadata": {},
   "source": [
    "# Executar um script de treinamento com SDK do Python"
   ]
  },
  {
   "cell_type": "code",
   "execution_count": null,
   "id": "13d7acd0",
   "metadata": {},
   "outputs": [],
   "source": [
    "from azure.identity import DefaultAzureCredential, InteractiveBrowserCredential\n",
    "from azure.ai.ml import MLClient\n",
    "\n",
    "try:\n",
    "    credential = DefaultAzureCredential()\n",
    "    #  Check if given  credential can get token successfully.\n",
    "    credential.get_token(\"https://management.azure.com/.default\")\n",
    "except Exception as ex:\n",
    "    # Fall back to InteractiveBrowserCredential in case DefaaultAzureCredential not work.\n",
    "    credential = InteractiveBrowserCredential()"
   ]
  },
  {
   "cell_type": "code",
   "execution_count": null,
   "id": "49a58369",
   "metadata": {},
   "outputs": [],
   "source": [
    "# Get a handle to the workspace\n",
    "ml_client = MLClient(credential=credential )\n"
   ]
  },
  {
   "cell_type": "code",
   "execution_count": null,
   "id": "1f2e6b0d",
   "metadata": {},
   "outputs": [],
   "source": [
    "%%writefile src/sorvetes-training.py\n",
    "import pandas as pd\n",
    "import numpy as np\n",
    "import sklearn.model_selection import train_test_split\n",
    "import sklearn.linear_model import LogisticRegression\n",
    "import sklearn.metrics import roc_auc_score\n",
    "\n",
    "\n",
    "#load the sorvetes dataset\n",
    "print(\"Loading Data ...\")\n",
    "sorvetes = pd.read_csv('vendas_sorvete.csv')\n",
    "\n",
    "# separate feature and labels \n",
    "X, y = sorvetes[['Temperatura (°C)']].values, sorvetes['Vendas de Sorvete (Unidades)'].values\n",
    "\n",
    "# split the data into train and test set\n",
    "X_train, X_test, y_train, y_test = train_test_split(X, y, test_size=0.20, random_state=0)\n",
    "\n",
    "# set regularization Hyperparameter\n",
    "reg = 0.01\n",
    "\n",
    "# train a logistic regression model \n",
    "print('Training a logistic regression model with regularization rate of',reg)\n",
    "model = LogisticRegression(C=1/reg, solver=\"liblinear\").fit(X_train, y_train)\n",
    "\n",
    "# calculate accuracy \n",
    "\n",
    "y_hat = model.predict(X_test)\n",
    "acc = np.avarage(y_hat == y_test)\n",
    "print('Accuracy:', acc)\n",
    "\n",
    "# calculate AUC\n",
    "y_scores = model.predict_proba(X_test)\n",
    "auc = roc_auc_score(y_test, y_scores[:, 1])\n",
    "print('AUC: '+str(auc))"
   ]
  },
  {
   "cell_type": "code",
   "execution_count": null,
   "id": "2ad16f12",
   "metadata": {},
   "outputs": [],
   "source": [
    "from azure.ai.ml import command \n",
    "\n",
    "# Configure Job\n",
    "\n",
    "job = command(\n",
    "    code =\"./src\", \n",
    "    command =\"python sorvetes-training.py\", \n",
    "    environment =\"Azureml-sklearn-0.24-ubuntu18.04-py37-cpu@latest\", \n",
    "    compute=\"cpu-cluster\", \n",
    "    display_name=\"sorvetes-pythonv2-train\",\n",
    "    experiment_name=\"sorvetes-training\"\n",
    ")\n",
    "\n",
    "# submit job \n",
    "returned_job = ml_client.create_or_update(job)\n",
    "aml_url = returned_job.studio_url\n",
    "print(\"Monitor your job at\",aml_url)"
   ]
  },
  {
   "cell_type": "code",
   "execution_count": null,
   "id": "2c4fdb97",
   "metadata": {},
   "outputs": [
    {
     "name": "stdout",
     "output_type": "stream",
     "text": [
      "Digite um formato válido para o perído escolhido\n"
     ]
    }
   ],
   "source": [
    "# Importando as bibliotécas a serem utilizadas\n",
    "import pandas as pd\n",
    "import numpy as np\n",
    "from datetime import datetime\n",
    "\n",
    "#Criando uma função para validar se a entrada de datas está conforme o formato mencionado \n",
    "def valida_data():\n",
    "    while True:\n",
    "        try:\n",
    "            data_range  = input(\"Digite o período de vendas a ser sorteado no formato de AAA/MM/DD\")            \n",
    "            if data_range:\n",
    "                data = datetime.strptime(data_range,\"%Y-%m-%d\")\n",
    "                return data\n",
    "        except ValueError:\n",
    "            print(\"Digite um formato válido para o perído escolhido\")\n",
    "\n",
    "data = valida_data()\n"
   ]
  }
 ],
 "metadata": {
  "kernelspec": {
   "display_name": ".venv",
   "language": "python",
   "name": "python3"
  },
  "language_info": {
   "codemirror_mode": {
    "name": "ipython",
    "version": 3
   },
   "file_extension": ".py",
   "mimetype": "text/x-python",
   "name": "python",
   "nbconvert_exporter": "python",
   "pygments_lexer": "ipython3",
   "version": "3.12.7"
  }
 },
 "nbformat": 4,
 "nbformat_minor": 5
}
