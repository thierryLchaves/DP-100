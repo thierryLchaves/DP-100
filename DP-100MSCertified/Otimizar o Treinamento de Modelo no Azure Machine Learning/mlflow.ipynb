{
 "cells": [
  {
   "cell_type": "code",
   "execution_count": null,
   "id": "c9f0153b",
   "metadata": {},
   "outputs": [],
   "source": [
    "import mlflow\n",
    "\n",
    "experiments = mlflow.search_experiments(max_results=2)\n",
    "for exp in experiments:\n",
    "    print(exp.name)\n",
    "\n",
    "mlflow.search_runs(exp.experiment_id)"
   ]
  },
  {
   "cell_type": "code",
   "execution_count": null,
   "id": "769aabac",
   "metadata": {},
   "outputs": [],
   "source": [
    "from azure.ai.ml import BanditPolicy\n",
    "sweep_job.early_termination = BanditPolicy(\n",
    "    slack_amount= 0.2,\n",
    "    delay_evaluation= 5,\n",
    "    evaluation_interval= 1\n",
    "    )\n"
   ]
  },
  {
   "cell_type": "code",
   "execution_count": null,
   "id": "db5ce918",
   "metadata": {},
   "outputs": [],
   "source": [
    "from azure.ai.ml.sweep import MeianStoppingPolicy\n",
    "\n",
    "sweep_job.early_termination = MedianStoppingPolicy(\n",
    "    delay_evaluation= 5,\n",
    "    evaluation_interval= 1\n",
    "    )"
   ]
  },
  {
   "cell_type": "code",
   "execution_count": null,
   "id": "ddecdc53",
   "metadata": {},
   "outputs": [],
   "source": [
    "from azure.ai.ml.sweep import TruncationSelectionPolicy \n",
    "\n",
    "sweep_job.early_termination = TruncationSelectionPolicy(\n",
    "    evaluation_interval = 1, \n",
    "    truncation_percentage = 20, \n",
    "    delay_evaluation = 4\n",
    "    )"
   ]
  },
  {
   "cell_type": "code",
   "execution_count": null,
   "id": "a8d8d853",
   "metadata": {},
   "outputs": [],
   "source": []
  }
 ],
 "metadata": {
  "language_info": {
   "name": "python"
  }
 },
 "nbformat": 4,
 "nbformat_minor": 5
}
