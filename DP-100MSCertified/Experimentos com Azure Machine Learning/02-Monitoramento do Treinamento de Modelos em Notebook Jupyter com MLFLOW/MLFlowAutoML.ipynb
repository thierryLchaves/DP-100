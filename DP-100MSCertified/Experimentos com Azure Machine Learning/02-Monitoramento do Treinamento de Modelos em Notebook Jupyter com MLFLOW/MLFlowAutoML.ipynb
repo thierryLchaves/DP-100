{
 "cells": [
  {
   "cell_type": "code",
   "execution_count": null,
   "id": "9f8017fe",
   "metadata": {},
   "outputs": [],
   "source": [
    "from azure.ai.ml.constants import AssetTypes\n",
    "from azure.ai.ml import Input\n",
    "from azure.ai.ml import MLClient\n",
    "my_training_data_input=input(type=AssetTypes.MLTABLE,path=\"azureml:input-data-automl:1\")"
   ]
  },
  {
   "cell_type": "code",
   "execution_count": null,
   "id": "095749e9",
   "metadata": {},
   "outputs": [],
   "source": [
    "from azure.ai.ml import automl\n",
    "\n",
    "classification_job = automl.classification(\n",
    "    compute = \"aml-cluster\",\n",
    "    experiment_name = \"auto-ml-class-dev\", \n",
    "    training_data = my_training_data_input, \n",
    "    target_column_name= \"Diabetic\", \n",
    "    primary_metric = \"accuracy\", \n",
    "    n_cross_validations=5,\n",
    "    enable_model_explainability =True\n",
    ")"
   ]
  },
  {
   "cell_type": "code",
   "execution_count": null,
   "id": "775c6886",
   "metadata": {},
   "outputs": [],
   "source": [
    "classification_job.set_limits(\n",
    "    timeout_minutes= 60, \n",
    "    trial_timeout_minutes= 20,\n",
    "    max_trials=5,\n",
    "    enable_early_termination=True\n",
    ")"
   ]
  },
  {
   "cell_type": "code",
   "execution_count": null,
   "id": "b57ebd3b",
   "metadata": {},
   "outputs": [],
   "source": [
    "returned_job = MLClient.jobs.create_or_update(classification_job)"
   ]
  }
 ],
 "metadata": {
  "kernelspec": {
   "display_name": "Python 3",
   "language": "python",
   "name": "python3"
  },
  "language_info": {
   "name": "python",
   "version": "3.12.0"
  }
 },
 "nbformat": 4,
 "nbformat_minor": 5
}
