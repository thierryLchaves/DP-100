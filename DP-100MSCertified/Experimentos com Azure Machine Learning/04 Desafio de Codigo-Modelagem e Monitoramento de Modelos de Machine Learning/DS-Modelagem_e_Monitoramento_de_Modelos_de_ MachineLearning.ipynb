{
 "cells": [
  {
   "cell_type": "code",
   "execution_count": 5,
   "id": "38287c77",
   "metadata": {},
   "outputs": [
    {
     "name": "stdout",
     "output_type": "stream",
     "text": [
      "Recurso inválido\n"
     ]
    }
   ],
   "source": [
    "entrada = input()\n",
    "\n",
    "def descrever_recurso(recurso):\n",
    "    if recurso == \"Acurácia\":\n",
    "        return \"Percentual de previsões corretas sobre o total de previsões\"\n",
    "    elif recurso == \"Precisão\":\n",
    "        return \"Proporção de previsões positivas corretas sobre as feitas\"\n",
    "    elif recurso == \"Recall\":\n",
    "        return \"Percentual de casos positivos corretamente identificados\"\n",
    "    elif recurso == \"F1-Score\":\n",
    "        return \"Média harmônica entre precisão e recall\"\n",
    "    else:\n",
    "        return \"Recurso inválido\"\n",
    "\n",
    "print(descrever_recurso(entrada))\n"
   ]
  },
  {
   "cell_type": "code",
   "execution_count": null,
   "id": "83fbd24a",
   "metadata": {},
   "outputs": [],
   "source": [
    "entrada = input()\n",
    "\n",
    "def descrever_recurso(recurso):\n",
    "    if recurso == \"MLflow Tracking\":\n",
    "        return \"Rastreamento de experimentos e métricas de modelos\"\n",
    "    elif recurso == \"MLflow Projects\":\n",
    "        return \"Formato padronizado para organização de código\"\n",
    "    elif recurso == \"MLflow Models\":\n",
    "        return \"Gerenciamento e versionamento de modelos treinados\"\n",
    "    elif recurso == \"MLflow Registry\":\n",
    "        return \"Repositório central para armazenar e gerenciar modelos\"\n",
    "    else:\n",
    "        return \"Recurso inválido\"\n",
    "\n",
    "print(descrever_recurso(entrada))"
   ]
  }
 ],
 "metadata": {
  "kernelspec": {
   "display_name": ".venv",
   "language": "python",
   "name": "python3"
  },
  "language_info": {
   "codemirror_mode": {
    "name": "ipython",
    "version": 3
   },
   "file_extension": ".py",
   "mimetype": "text/x-python",
   "name": "python",
   "nbconvert_exporter": "python",
   "pygments_lexer": "ipython3",
   "version": "3.12.7"
  }
 },
 "nbformat": 4,
 "nbformat_minor": 5
}
